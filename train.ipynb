{
 "cells": [
  {
   "cell_type": "code",
   "execution_count": 1,
   "metadata": {},
   "outputs": [],
   "source": [
    "import torch\n",
    "import torch.nn as nn\n",
    "import torch.nn.functional as F\n",
    "import torch.optim as optim\n",
    "import numpy as np\n",
    "from torchvision import datasets, transforms\n",
    "from torch.optim.lr_scheduler import StepLR\n",
    "from torchvision.models import vgg19\n",
    "import ml_collections\n",
    "from model_utils.train import train"
   ]
  },
  {
   "cell_type": "markdown",
   "metadata": {},
   "source": [
    "# Self supervised"
   ]
  },
  {
   "cell_type": "code",
   "execution_count": 2,
   "metadata": {},
   "outputs": [],
   "source": [
    "CONFIG = ml_collections.ConfigDict()\n",
    "CONFIG.epochs = 100\n",
    "CONFIG.batch_size = 32\n",
    "CONFIG.img_size = 224\n",
    "CONFIG.hidden_size = 64\n",
    "CONFIG.model_dim = 64\n",
    "CONFIG.num_heads = 8\n",
    "CONFIG.num_layers = 8\n",
    "CONFIG.patch_size = 16"
   ]
  },
  {
   "cell_type": "code",
   "execution_count": null,
   "metadata": {},
   "outputs": [
    {
     "name": "stdout",
     "output_type": "stream",
     "text": [
      "Train Epoch: 1 [0/5000 (0%)]\tLoss: 2.731291\n",
      "Train Epoch: 1 [320/5000 (6%)]\tLoss: 1.091956\n"
     ]
    }
   ],
   "source": [
    "train(CONFIG)"
   ]
  }
 ],
 "metadata": {
  "kernelspec": {
   "display_name": "imask",
   "language": "python",
   "name": "imask"
  },
  "language_info": {
   "codemirror_mode": {
    "name": "ipython",
    "version": 3
   },
   "file_extension": ".py",
   "mimetype": "text/x-python",
   "name": "python",
   "nbconvert_exporter": "python",
   "pygments_lexer": "ipython3",
   "version": "3.8.6"
  }
 },
 "nbformat": 4,
 "nbformat_minor": 4
}
